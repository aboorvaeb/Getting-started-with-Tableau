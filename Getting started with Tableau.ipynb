{
 "cells": [
  {
   "cell_type": "markdown",
   "id": "331ba0c5",
   "metadata": {},
   "source": [
    "Followed the tableau tutorial and have come up with a sample dashboard for visualizing Profit Ratio by geography"
   ]
  },
  {
   "cell_type": "markdown",
   "id": "82228c66",
   "metadata": {},
   "source": [
    "link: https://public.tableau.com/app/profile/aboorva.erode.baskaran/viz/Executiveoverview_16663692327140/ExecutiveOverview_1\n"
   ]
  },
  {
   "cell_type": "code",
   "execution_count": null,
   "id": "c8b488fe",
   "metadata": {},
   "outputs": [],
   "source": []
  }
 ],
 "metadata": {
  "kernelspec": {
   "display_name": "Python 3 (ipykernel)",
   "language": "python",
   "name": "python3"
  },
  "language_info": {
   "codemirror_mode": {
    "name": "ipython",
    "version": 3
   },
   "file_extension": ".py",
   "mimetype": "text/x-python",
   "name": "python",
   "nbconvert_exporter": "python",
   "pygments_lexer": "ipython3",
   "version": "3.9.12"
  }
 },
 "nbformat": 4,
 "nbformat_minor": 5
}
